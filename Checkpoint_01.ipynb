{
  "cells": [
    {
      "cell_type": "markdown",
      "metadata": {
        "id": "j-bzGvV3uE1y"
      },
      "source": [
        "# **Checkpoint 01 - Modelagem de Dados e Aprendizagem de Máquina**\n",
        "\n",
        "## **Objetivo**\n",
        "Avaliar conceitos sobre Modelagem de dados e Aprendizado de Máquina (ML) adquiridos no curso.\n",
        "\n",
        "## **Descrição do Desafio**\n",
        "Você foi contratado por uma empresa que desenvolveu uma plataforma de compra e venda de carros usados. O funcionamento é bem simples, os usuários cadastram o carro que querem vender e esperam que outro usuário os compre, a empresa então fica com uma parte do valor de venda. Seu papel é desenvolver um modelo que possa determinar qual o melhor preço de venda para um usado.\n",
        "\n",
        "Para nortear o desenvolvimento, você precisa de um ponto de partida e determinou uma pergunta chave: **Qual o preço de venda de um veículo Volkswagen Sedan 2.0 a gasolina, ano 2005, com cerca de 172095 km rodados?**\n",
        "\n",
        "### **Orientações**\n",
        "Para responder a essa pergunta, você deve utilizar o dataset da empresa, que está representado no arquivo **carros.csv**, e seguir o roteiro proposto neste desafio."
      ]
    },
    {
      "cell_type": "markdown",
      "metadata": {
        "id": "3sD4e4IY13Ux"
      },
      "source": [
        "## **Exploração de Dados - 2 pontos**\n",
        "\n",
        "1 - Carregue o dataset e faça a inspeção nas 15 primeiras linhas para identificação dos atributos. Quantos dados existem nesse dataset? Qual a quantidade de atributos? Existem valores faltantes? De que tipo são os dados? (1,0)"
      ]
    },
    {
      "cell_type": "code",
      "execution_count": 2,
      "metadata": {
        "id": "SsuvPzQQ5PAt"
      },
      "outputs": [],
      "source": [
        "## installs\n",
        "# pip install pandas\n",
        "# pip install seaborn\n",
        "# pip install scikit-learn\n",
        "\n",
        "## imports \n",
        "import pandas as pd\n",
        "import matplotlib.pyplot as plt\n",
        "import seaborn as sns\n",
        "import numpy as np\n",
        "from sklearn.model_selection import train_test_split\n",
        "from sklearn.ensemble import RandomForestRegressor\n",
        "from sklearn.metrics import r2_score, mean_squared_error\n",
        "from sklearn.metrics import mean_squared_error, mean_absolute_error\n",
        "from sklearn.linear_model import Ridge"
      ]
    },
    {
      "cell_type": "code",
      "execution_count": 3,
      "metadata": {
        "colab": {
          "base_uri": "https://localhost:8080/",
          "height": 971
        },
        "id": "1zZr4aNc3p0u",
        "outputId": "e48d1d47-6417-486c-aae1-a0cf0d76a926"
      },
      "outputs": [
        {
          "data": {
            "text/html": [
              "<div>\n",
              "<style scoped>\n",
              "    .dataframe tbody tr th:only-of-type {\n",
              "        vertical-align: middle;\n",
              "    }\n",
              "\n",
              "    .dataframe tbody tr th {\n",
              "        vertical-align: top;\n",
              "    }\n",
              "\n",
              "    .dataframe thead th {\n",
              "        text-align: right;\n",
              "    }\n",
              "</style>\n",
              "<table border=\"1\" class=\"dataframe\">\n",
              "  <thead>\n",
              "    <tr style=\"text-align: right;\">\n",
              "      <th></th>\n",
              "      <th>Brand</th>\n",
              "      <th>Price</th>\n",
              "      <th>Body</th>\n",
              "      <th>Mileage/1000</th>\n",
              "      <th>EngineV</th>\n",
              "      <th>Engine Type</th>\n",
              "      <th>Registration</th>\n",
              "      <th>Year</th>\n",
              "      <th>Model</th>\n",
              "    </tr>\n",
              "  </thead>\n",
              "  <tbody>\n",
              "    <tr>\n",
              "      <th>0</th>\n",
              "      <td>BMW</td>\n",
              "      <td>4200.0</td>\n",
              "      <td>sedan</td>\n",
              "      <td>277</td>\n",
              "      <td>2.00</td>\n",
              "      <td>Petrol</td>\n",
              "      <td>yes</td>\n",
              "      <td>1991</td>\n",
              "      <td>320</td>\n",
              "    </tr>\n",
              "    <tr>\n",
              "      <th>1</th>\n",
              "      <td>Mercedes-Benz</td>\n",
              "      <td>7900.0</td>\n",
              "      <td>van</td>\n",
              "      <td>427</td>\n",
              "      <td>2.90</td>\n",
              "      <td>Diesel</td>\n",
              "      <td>yes</td>\n",
              "      <td>1999</td>\n",
              "      <td>Sprinter 212</td>\n",
              "    </tr>\n",
              "    <tr>\n",
              "      <th>2</th>\n",
              "      <td>Mercedes-Benz</td>\n",
              "      <td>13300.0</td>\n",
              "      <td>sedan</td>\n",
              "      <td>358</td>\n",
              "      <td>5.00</td>\n",
              "      <td>Gas</td>\n",
              "      <td>yes</td>\n",
              "      <td>2003</td>\n",
              "      <td>S 500</td>\n",
              "    </tr>\n",
              "    <tr>\n",
              "      <th>3</th>\n",
              "      <td>Audi</td>\n",
              "      <td>23000.0</td>\n",
              "      <td>crossover</td>\n",
              "      <td>240</td>\n",
              "      <td>4.20</td>\n",
              "      <td>Petrol</td>\n",
              "      <td>yes</td>\n",
              "      <td>2007</td>\n",
              "      <td>Q7</td>\n",
              "    </tr>\n",
              "    <tr>\n",
              "      <th>4</th>\n",
              "      <td>Toyota</td>\n",
              "      <td>18300.0</td>\n",
              "      <td>crossover</td>\n",
              "      <td>120</td>\n",
              "      <td>2.00</td>\n",
              "      <td>Petrol</td>\n",
              "      <td>yes</td>\n",
              "      <td>2011</td>\n",
              "      <td>Rav 4</td>\n",
              "    </tr>\n",
              "    <tr>\n",
              "      <th>5</th>\n",
              "      <td>Mercedes-Benz</td>\n",
              "      <td>199999.0</td>\n",
              "      <td>crossover</td>\n",
              "      <td>0</td>\n",
              "      <td>5.50</td>\n",
              "      <td>Petrol</td>\n",
              "      <td>yes</td>\n",
              "      <td>2016</td>\n",
              "      <td>GLS 63</td>\n",
              "    </tr>\n",
              "    <tr>\n",
              "      <th>6</th>\n",
              "      <td>BMW</td>\n",
              "      <td>6100.0</td>\n",
              "      <td>sedan</td>\n",
              "      <td>438</td>\n",
              "      <td>2.00</td>\n",
              "      <td>Gas</td>\n",
              "      <td>yes</td>\n",
              "      <td>1997</td>\n",
              "      <td>320</td>\n",
              "    </tr>\n",
              "    <tr>\n",
              "      <th>7</th>\n",
              "      <td>Audi</td>\n",
              "      <td>14200.0</td>\n",
              "      <td>vagon</td>\n",
              "      <td>200</td>\n",
              "      <td>2.70</td>\n",
              "      <td>Diesel</td>\n",
              "      <td>yes</td>\n",
              "      <td>2006</td>\n",
              "      <td>A6</td>\n",
              "    </tr>\n",
              "    <tr>\n",
              "      <th>8</th>\n",
              "      <td>Renault</td>\n",
              "      <td>10799.0</td>\n",
              "      <td>vagon</td>\n",
              "      <td>193</td>\n",
              "      <td>1.50</td>\n",
              "      <td>Diesel</td>\n",
              "      <td>yes</td>\n",
              "      <td>2012</td>\n",
              "      <td>Megane</td>\n",
              "    </tr>\n",
              "    <tr>\n",
              "      <th>9</th>\n",
              "      <td>Volkswagen</td>\n",
              "      <td>1400.0</td>\n",
              "      <td>other</td>\n",
              "      <td>212</td>\n",
              "      <td>1.80</td>\n",
              "      <td>Gas</td>\n",
              "      <td>no</td>\n",
              "      <td>1999</td>\n",
              "      <td>Golf IV</td>\n",
              "    </tr>\n",
              "    <tr>\n",
              "      <th>10</th>\n",
              "      <td>Renault</td>\n",
              "      <td>11950.0</td>\n",
              "      <td>vagon</td>\n",
              "      <td>177</td>\n",
              "      <td>1.50</td>\n",
              "      <td>Diesel</td>\n",
              "      <td>yes</td>\n",
              "      <td>2011</td>\n",
              "      <td>Megane</td>\n",
              "    </tr>\n",
              "    <tr>\n",
              "      <th>11</th>\n",
              "      <td>Renault</td>\n",
              "      <td>2500.0</td>\n",
              "      <td>sedan</td>\n",
              "      <td>260</td>\n",
              "      <td>1.79</td>\n",
              "      <td>Petrol</td>\n",
              "      <td>yes</td>\n",
              "      <td>1994</td>\n",
              "      <td>19</td>\n",
              "    </tr>\n",
              "    <tr>\n",
              "      <th>12</th>\n",
              "      <td>Audi</td>\n",
              "      <td>9500.0</td>\n",
              "      <td>vagon</td>\n",
              "      <td>165</td>\n",
              "      <td>2.70</td>\n",
              "      <td>Gas</td>\n",
              "      <td>yes</td>\n",
              "      <td>2003</td>\n",
              "      <td>A6 Allroad</td>\n",
              "    </tr>\n",
              "    <tr>\n",
              "      <th>13</th>\n",
              "      <td>Volkswagen</td>\n",
              "      <td>10500.0</td>\n",
              "      <td>sedan</td>\n",
              "      <td>100</td>\n",
              "      <td>1.80</td>\n",
              "      <td>Petrol</td>\n",
              "      <td>yes</td>\n",
              "      <td>2008</td>\n",
              "      <td>Passat B6</td>\n",
              "    </tr>\n",
              "    <tr>\n",
              "      <th>14</th>\n",
              "      <td>Toyota</td>\n",
              "      <td>16000.0</td>\n",
              "      <td>crossover</td>\n",
              "      <td>250</td>\n",
              "      <td>4.70</td>\n",
              "      <td>Gas</td>\n",
              "      <td>yes</td>\n",
              "      <td>2001</td>\n",
              "      <td>Land Cruiser 100</td>\n",
              "    </tr>\n",
              "  </tbody>\n",
              "</table>\n",
              "</div>"
            ],
            "text/plain": [
              "            Brand     Price       Body  Mileage/1000  EngineV Engine Type  \\\n",
              "0             BMW    4200.0      sedan           277     2.00      Petrol   \n",
              "1   Mercedes-Benz    7900.0        van           427     2.90      Diesel   \n",
              "2   Mercedes-Benz   13300.0      sedan           358     5.00         Gas   \n",
              "3            Audi   23000.0  crossover           240     4.20      Petrol   \n",
              "4          Toyota   18300.0  crossover           120     2.00      Petrol   \n",
              "5   Mercedes-Benz  199999.0  crossover             0     5.50      Petrol   \n",
              "6             BMW    6100.0      sedan           438     2.00         Gas   \n",
              "7            Audi   14200.0      vagon           200     2.70      Diesel   \n",
              "8         Renault   10799.0      vagon           193     1.50      Diesel   \n",
              "9      Volkswagen    1400.0      other           212     1.80         Gas   \n",
              "10        Renault   11950.0      vagon           177     1.50      Diesel   \n",
              "11        Renault    2500.0      sedan           260     1.79      Petrol   \n",
              "12           Audi    9500.0      vagon           165     2.70         Gas   \n",
              "13     Volkswagen   10500.0      sedan           100     1.80      Petrol   \n",
              "14         Toyota   16000.0  crossover           250     4.70         Gas   \n",
              "\n",
              "   Registration  Year             Model  \n",
              "0           yes  1991               320  \n",
              "1           yes  1999      Sprinter 212  \n",
              "2           yes  2003             S 500  \n",
              "3           yes  2007                Q7  \n",
              "4           yes  2011             Rav 4  \n",
              "5           yes  2016            GLS 63  \n",
              "6           yes  1997               320  \n",
              "7           yes  2006                A6  \n",
              "8           yes  2012            Megane  \n",
              "9            no  1999           Golf IV  \n",
              "10          yes  2011            Megane  \n",
              "11          yes  1994                19  \n",
              "12          yes  2003        A6 Allroad  \n",
              "13          yes  2008         Passat B6  \n",
              "14          yes  2001  Land Cruiser 100  "
            ]
          },
          "metadata": {},
          "output_type": "display_data"
        },
        {
          "name": "stdout",
          "output_type": "stream",
          "text": [
            "Quantidade de dados: 39105\n",
            "Quantidade de atributos: 9\n",
            "\n",
            "Existem valores faltantes?\n",
            "Brand             0\n",
            "Price           172\n",
            "Body              0\n",
            "Mileage/1000      0\n",
            "EngineV         150\n",
            "Engine Type       0\n",
            "Registration      0\n",
            "Year              0\n",
            "Model             0\n",
            "dtype: int64\n",
            "\n",
            "Tipo de dados:\n",
            "Brand            object\n",
            "Price           float64\n",
            "Body             object\n",
            "Mileage/1000      int64\n",
            "EngineV         float64\n",
            "Engine Type      object\n",
            "Registration     object\n",
            "Year              int64\n",
            "Model            object\n",
            "dtype: object\n"
          ]
        }
      ],
      "source": [
        "#Sua resposta aqui\n",
        "#imports necessários para o projeto\n",
        "\n",
        "data = pd.read_csv('carros.csv')\n",
        "display(data.head(15))\n",
        "\n",
        "print(f\"Quantidade de dados: {(data.shape[0] * data.shape[1])}\")\n",
        "print(f\"Quantidade de atributos: {data.shape[1]}\")\n",
        "\n",
        "print(f\"\\nExistem valores faltantes?\\n{data.isnull().sum()}\")\n",
        "print(f\"\\nTipo de dados:\\n{data.dtypes}\")\n",
        "\n",
        "data = data.dropna(axis= 0)\n"
      ]
    },
    {
      "cell_type": "markdown",
      "metadata": {
        "id": "qXaP-3r05bSZ"
      },
      "source": [
        "2 - Note que os dataset está no sistema americano. Converta os dados para o sistema métrico e altere o cabeçalho de forma que os dados façam sentido. (1,0)\n",
        "\n",
        "Obs: Os dados de Milhas dividos por mil, ou seja, multiplique o valor por 1.000 para ter o valor real!"
      ]
    },
    {
      "cell_type": "code",
      "execution_count": 4,
      "metadata": {
        "colab": {
          "base_uri": "https://localhost:8080/",
          "height": 424
        },
        "id": "FqWaPS5d7yk0",
        "outputId": "9c8beb4c-8a26-4dce-c3ea-6c520b0a04f1"
      },
      "outputs": [
        {
          "data": {
            "text/html": [
              "<div>\n",
              "<style scoped>\n",
              "    .dataframe tbody tr th:only-of-type {\n",
              "        vertical-align: middle;\n",
              "    }\n",
              "\n",
              "    .dataframe tbody tr th {\n",
              "        vertical-align: top;\n",
              "    }\n",
              "\n",
              "    .dataframe thead th {\n",
              "        text-align: right;\n",
              "    }\n",
              "</style>\n",
              "<table border=\"1\" class=\"dataframe\">\n",
              "  <thead>\n",
              "    <tr style=\"text-align: right;\">\n",
              "      <th></th>\n",
              "      <th>marca</th>\n",
              "      <th>preco</th>\n",
              "      <th>tipo</th>\n",
              "      <th>quilometragem</th>\n",
              "      <th>motor V</th>\n",
              "      <th>tipo de motor</th>\n",
              "      <th>cadastrado</th>\n",
              "      <th>ano</th>\n",
              "      <th>modelo</th>\n",
              "    </tr>\n",
              "  </thead>\n",
              "  <tbody>\n",
              "    <tr>\n",
              "      <th>0</th>\n",
              "      <td>BMW</td>\n",
              "      <td>4200.0</td>\n",
              "      <td>sedan</td>\n",
              "      <td>445787.18</td>\n",
              "      <td>2.0</td>\n",
              "      <td>Petrol</td>\n",
              "      <td>yes</td>\n",
              "      <td>1991</td>\n",
              "      <td>320</td>\n",
              "    </tr>\n",
              "    <tr>\n",
              "      <th>1</th>\n",
              "      <td>Mercedes-Benz</td>\n",
              "      <td>7900.0</td>\n",
              "      <td>van</td>\n",
              "      <td>687188.18</td>\n",
              "      <td>2.9</td>\n",
              "      <td>Diesel</td>\n",
              "      <td>yes</td>\n",
              "      <td>1999</td>\n",
              "      <td>Sprinter 212</td>\n",
              "    </tr>\n",
              "    <tr>\n",
              "      <th>2</th>\n",
              "      <td>Mercedes-Benz</td>\n",
              "      <td>13300.0</td>\n",
              "      <td>sedan</td>\n",
              "      <td>576143.72</td>\n",
              "      <td>5.0</td>\n",
              "      <td>Gas</td>\n",
              "      <td>yes</td>\n",
              "      <td>2003</td>\n",
              "      <td>S 500</td>\n",
              "    </tr>\n",
              "    <tr>\n",
              "      <th>3</th>\n",
              "      <td>Audi</td>\n",
              "      <td>23000.0</td>\n",
              "      <td>crossover</td>\n",
              "      <td>386241.60</td>\n",
              "      <td>4.2</td>\n",
              "      <td>Petrol</td>\n",
              "      <td>yes</td>\n",
              "      <td>2007</td>\n",
              "      <td>Q7</td>\n",
              "    </tr>\n",
              "    <tr>\n",
              "      <th>4</th>\n",
              "      <td>Toyota</td>\n",
              "      <td>18300.0</td>\n",
              "      <td>crossover</td>\n",
              "      <td>193120.80</td>\n",
              "      <td>2.0</td>\n",
              "      <td>Petrol</td>\n",
              "      <td>yes</td>\n",
              "      <td>2011</td>\n",
              "      <td>Rav 4</td>\n",
              "    </tr>\n",
              "    <tr>\n",
              "      <th>...</th>\n",
              "      <td>...</td>\n",
              "      <td>...</td>\n",
              "      <td>...</td>\n",
              "      <td>...</td>\n",
              "      <td>...</td>\n",
              "      <td>...</td>\n",
              "      <td>...</td>\n",
              "      <td>...</td>\n",
              "      <td>...</td>\n",
              "    </tr>\n",
              "    <tr>\n",
              "      <th>4339</th>\n",
              "      <td>Toyota</td>\n",
              "      <td>17900.0</td>\n",
              "      <td>sedan</td>\n",
              "      <td>56326.90</td>\n",
              "      <td>1.6</td>\n",
              "      <td>Petrol</td>\n",
              "      <td>yes</td>\n",
              "      <td>2014</td>\n",
              "      <td>Corolla</td>\n",
              "    </tr>\n",
              "    <tr>\n",
              "      <th>4340</th>\n",
              "      <td>Mercedes-Benz</td>\n",
              "      <td>125000.0</td>\n",
              "      <td>sedan</td>\n",
              "      <td>14484.06</td>\n",
              "      <td>3.0</td>\n",
              "      <td>Diesel</td>\n",
              "      <td>yes</td>\n",
              "      <td>2014</td>\n",
              "      <td>S 350</td>\n",
              "    </tr>\n",
              "    <tr>\n",
              "      <th>4341</th>\n",
              "      <td>BMW</td>\n",
              "      <td>6500.0</td>\n",
              "      <td>sedan</td>\n",
              "      <td>1609.34</td>\n",
              "      <td>3.5</td>\n",
              "      <td>Petrol</td>\n",
              "      <td>yes</td>\n",
              "      <td>1999</td>\n",
              "      <td>535</td>\n",
              "    </tr>\n",
              "    <tr>\n",
              "      <th>4342</th>\n",
              "      <td>BMW</td>\n",
              "      <td>8000.0</td>\n",
              "      <td>sedan</td>\n",
              "      <td>312211.96</td>\n",
              "      <td>2.0</td>\n",
              "      <td>Petrol</td>\n",
              "      <td>yes</td>\n",
              "      <td>1985</td>\n",
              "      <td>520</td>\n",
              "    </tr>\n",
              "    <tr>\n",
              "      <th>4344</th>\n",
              "      <td>Volkswagen</td>\n",
              "      <td>13500.0</td>\n",
              "      <td>van</td>\n",
              "      <td>199558.16</td>\n",
              "      <td>2.0</td>\n",
              "      <td>Diesel</td>\n",
              "      <td>yes</td>\n",
              "      <td>2013</td>\n",
              "      <td>T5 (Transporter)</td>\n",
              "    </tr>\n",
              "  </tbody>\n",
              "</table>\n",
              "<p>4025 rows × 9 columns</p>\n",
              "</div>"
            ],
            "text/plain": [
              "              marca     preco       tipo  quilometragem  motor V  \\\n",
              "0               BMW    4200.0      sedan      445787.18      2.0   \n",
              "1     Mercedes-Benz    7900.0        van      687188.18      2.9   \n",
              "2     Mercedes-Benz   13300.0      sedan      576143.72      5.0   \n",
              "3              Audi   23000.0  crossover      386241.60      4.2   \n",
              "4            Toyota   18300.0  crossover      193120.80      2.0   \n",
              "...             ...       ...        ...            ...      ...   \n",
              "4339         Toyota   17900.0      sedan       56326.90      1.6   \n",
              "4340  Mercedes-Benz  125000.0      sedan       14484.06      3.0   \n",
              "4341            BMW    6500.0      sedan        1609.34      3.5   \n",
              "4342            BMW    8000.0      sedan      312211.96      2.0   \n",
              "4344     Volkswagen   13500.0        van      199558.16      2.0   \n",
              "\n",
              "     tipo de motor cadastrado   ano             modelo  \n",
              "0           Petrol        yes  1991                320  \n",
              "1           Diesel        yes  1999       Sprinter 212  \n",
              "2              Gas        yes  2003              S 500  \n",
              "3           Petrol        yes  2007                 Q7  \n",
              "4           Petrol        yes  2011              Rav 4  \n",
              "...            ...        ...   ...                ...  \n",
              "4339        Petrol        yes  2014            Corolla  \n",
              "4340        Diesel        yes  2014              S 350  \n",
              "4341        Petrol        yes  1999                535  \n",
              "4342        Petrol        yes  1985                520  \n",
              "4344        Diesel        yes  2013  T5 (Transporter)   \n",
              "\n",
              "[4025 rows x 9 columns]"
            ]
          },
          "metadata": {},
          "output_type": "display_data"
        }
      ],
      "source": [
        "#Sua resposta aqui\n",
        "data = data.rename(columns={\n",
        "    'Brand': 'marca', \n",
        "    'Price': 'preco', \n",
        "    'Body' : 'tipo', \n",
        "    'Mileage/1000': 'quilometragem',\n",
        "    'EngineV': 'motor V',\n",
        "    'Engine Type': 'tipo de motor',\n",
        "    'Registration': 'cadastrado',\n",
        "    'Year': 'ano',\n",
        "    'Model': 'modelo',\n",
        "    })\n",
        "\n",
        "data['quilometragem'] = (data['quilometragem'] * 1.60934)*1000\n",
        "\n",
        "display(data)"
      ]
    },
    {
      "cell_type": "markdown",
      "metadata": {
        "id": "JkvVJsjg5kTq"
      },
      "source": [
        "## **Analise descritiva dos dados - 2 pontos**\n",
        "\n",
        "3 - Faça uma análise exploratória dos dados, utilizando gráficos e tabelas para realizar correlações entre os atributos e que permitam criar um cenário de correlação entre eles."
      ]
    },
    {
      "cell_type": "code",
      "execution_count": 5,
      "metadata": {
        "colab": {
          "base_uri": "https://localhost:8080/",
          "height": 1000
        },
        "id": "ENdW7hn56FFp",
        "outputId": "de55250b-1ed2-4716-c28e-799b913d23bc"
      },
      "outputs": [
        {
          "data": {
            "image/png": "[encoded data removed]",
            "text/plain": [
              "<Figure size 1152x504 with 3 Axes>"
            ]
          },
          "metadata": {
            "needs_background": "light"
          },
          "output_type": "display_data"
        },
        {
          "data": {
            "image/png": "[encoded data removed]",
            "text/plain": [
              "<Figure size 1152x504 with 2 Axes>"
            ]
          },
          "metadata": {
            "needs_background": "light"
          },
          "output_type": "display_data"
        },
        {
          "name": "stdout",
          "output_type": "stream",
          "text": [
            "\u001b[1mGráfico sobre preço com visualização melhorada\u001b[0m\n"
          ]
        },
        {
          "data": {
            "image/png": "[encoded data removed]",
            "text/plain": [
              "<Figure size 1152x504 with 2 Axes>"
            ]
          },
          "metadata": {
            "needs_background": "light"
          },
          "output_type": "display_data"
        }
      ],
      "source": [
        "#Sua resposta aqui\n",
        "plt.figure(figsize=[16,7])\n",
        "\n",
        "plt.subplot(1, 2, 1)\n",
        "sns.heatmap(data.corr(), annot=True, cmap=\"YlGnBu\")\n",
        "plt.title('Matriz de Correlação')\n",
        "\n",
        "plt.subplot(1, 2, 2)\n",
        "sns.histplot(data=data, x=\"preco\")\n",
        "plt.title('Distribuição dos Preços')\n",
        "plt.show()\n",
        "\n",
        "################################################################\n",
        "\n",
        "plt.figure(figsize=[16,7])\n",
        "\n",
        "plt.subplot(1, 2, 1)\n",
        "sns.scatterplot(data=data, x=\"preco\", y=\"quilometragem\")\n",
        "plt.title('Preço vs. Quilometragem por litro')\n",
        "\n",
        "plt.subplot(1, 2, 2)\n",
        "sns.boxplot(data=data, x=\"tipo de motor\", y=\"preco\")\n",
        "plt.title('Preço por Tipo de Motor')\n",
        "plt.show()\n",
        "\n",
        "################################################################\n",
        "## melhorar visualização do preço\n",
        "logPreco = np.log(data['preco'])\n",
        "data['log preco'] = logPreco\n",
        "data = data.drop('preco',axis=1)\n",
        "\n",
        "################################################################\n",
        "print('\\033[1m' + 'Gráfico sobre preço com visualização melhorada' + '\\033[0m')\n",
        "plt.figure(figsize=[16,7])\n",
        "\n",
        "plt.subplot(1, 2, 1)\n",
        "sns.scatterplot(data=data, x=\"log preco\", y=\"quilometragem\")\n",
        "plt.title('Preço vs. Quilometragem por litro')\n",
        "\n",
        "plt.subplot(1, 2, 2)\n",
        "sns.boxplot(data=data, x=\"tipo de motor\", y=\"log preco\")\n",
        "plt.title('Preço por Tipo de Motor')\n",
        "plt.show()\n"
      ]
    },
    {
      "cell_type": "markdown",
      "metadata": {
        "id": "O_m8RaIs6KIz"
      },
      "source": [
        "## **Desenvolvimento do Modelo - 2 pontos**\n",
        "\n",
        "4 - O conjunto de dados indica a aplicação de qual modelo de aprendizagem de máquina para responder a pergunta do desafio? Por quê? (1,0)"
      ]
    },
    {
      "cell_type": "markdown",
      "metadata": {
        "id": "nWTzZl2K6kY_"
      },
      "source": [
        "Resposta: É possível aplicar modelos de aprendizagem supervisionada de regressão para prever o preço de um carro com base em suas características, como marca, modelo, ano, quilometragem e etc."
      ]
    },
    {
      "cell_type": "markdown",
      "metadata": {
        "id": "uUkBz0pu6nLk"
      },
      "source": [
        "5 - Qual a técnica sugerida para este projeto? Por quê? (1,0)"
      ]
    },
    {
      "cell_type": "markdown",
      "metadata": {
        "id": "2V2a4DRv6xg_"
      },
      "source": [
        "Resposta: a técnica sugerida para prever o preço de carros com base nos dados fornecidos é a regressão linear múltipla. Essa técnica permite modelar a relação entre várias variáveis independentes e a variável dependente (preço do carro) simultaneamente, o que pode fornecer uma previsão mais precisa."
      ]
    },
    {
      "cell_type": "markdown",
      "metadata": {
        "id": "wxJjN_cO7XbH"
      },
      "source": [
        "Com base nas suas respostas, agora escolha dois algortimos para implementar e comparar a performance de cada um deles ao final do desafio."
      ]
    },
    {
      "cell_type": "markdown",
      "metadata": {
        "id": "N6tmcuJk7fn4"
      },
      "source": [
        "Resposta:\n",
        "\n",
        "Algoritmo 1: Ridge\n",
        "\n",
        "Algoritmo 2: Random Forest"
      ]
    },
    {
      "cell_type": "markdown",
      "metadata": {
        "id": "H9gsbQvj6y_m"
      },
      "source": [
        "## **Treinamento e teste do Modelo - 3 pontos**\n",
        "\n",
        "6 - Crie um subset dos dados que serão utilizados para o treinamento e para o teste do modelo. Divida este subset em treino e teste. (1,0) "
      ]
    },
    {
      "cell_type": "code",
      "execution_count": 6,
      "metadata": {
        "colab": {
          "base_uri": "https://localhost:8080/",
          "height": 317
        },
        "id": "WW17xlyN78B8",
        "outputId": "1efa6ec0-15aa-4c37-95a6-e0df8b707f0f"
      },
      "outputs": [
        {
          "data": {
            "text/html": [
              "<div>\n",
              "<style scoped>\n",
              "    .dataframe tbody tr th:only-of-type {\n",
              "        vertical-align: middle;\n",
              "    }\n",
              "\n",
              "    .dataframe tbody tr th {\n",
              "        vertical-align: top;\n",
              "    }\n",
              "\n",
              "    .dataframe thead th {\n",
              "        text-align: right;\n",
              "    }\n",
              "</style>\n",
              "<table border=\"1\" class=\"dataframe\">\n",
              "  <thead>\n",
              "    <tr style=\"text-align: right;\">\n",
              "      <th></th>\n",
              "      <th>quilometragem</th>\n",
              "      <th>motor V</th>\n",
              "      <th>ano</th>\n",
              "      <th>log preco</th>\n",
              "      <th>marca_BMW</th>\n",
              "      <th>marca_Mercedes-Benz</th>\n",
              "      <th>marca_Mitsubishi</th>\n",
              "      <th>marca_Renault</th>\n",
              "      <th>marca_Toyota</th>\n",
              "      <th>marca_Volkswagen</th>\n",
              "      <th>...</th>\n",
              "      <th>modelo_Vito</th>\n",
              "      <th>modelo_X1</th>\n",
              "      <th>modelo_X3</th>\n",
              "      <th>modelo_X5</th>\n",
              "      <th>modelo_X5 M</th>\n",
              "      <th>modelo_X6</th>\n",
              "      <th>modelo_X6 M</th>\n",
              "      <th>modelo_Yaris</th>\n",
              "      <th>modelo_Z3</th>\n",
              "      <th>modelo_Z4</th>\n",
              "    </tr>\n",
              "  </thead>\n",
              "  <tbody>\n",
              "    <tr>\n",
              "      <th>0</th>\n",
              "      <td>445787.18</td>\n",
              "      <td>2.0</td>\n",
              "      <td>1991</td>\n",
              "      <td>8.342840</td>\n",
              "      <td>1</td>\n",
              "      <td>0</td>\n",
              "      <td>0</td>\n",
              "      <td>0</td>\n",
              "      <td>0</td>\n",
              "      <td>0</td>\n",
              "      <td>...</td>\n",
              "      <td>0</td>\n",
              "      <td>0</td>\n",
              "      <td>0</td>\n",
              "      <td>0</td>\n",
              "      <td>0</td>\n",
              "      <td>0</td>\n",
              "      <td>0</td>\n",
              "      <td>0</td>\n",
              "      <td>0</td>\n",
              "      <td>0</td>\n",
              "    </tr>\n",
              "    <tr>\n",
              "      <th>1</th>\n",
              "      <td>687188.18</td>\n",
              "      <td>2.9</td>\n",
              "      <td>1999</td>\n",
              "      <td>8.974618</td>\n",
              "      <td>0</td>\n",
              "      <td>1</td>\n",
              "      <td>0</td>\n",
              "      <td>0</td>\n",
              "      <td>0</td>\n",
              "      <td>0</td>\n",
              "      <td>...</td>\n",
              "      <td>0</td>\n",
              "      <td>0</td>\n",
              "      <td>0</td>\n",
              "      <td>0</td>\n",
              "      <td>0</td>\n",
              "      <td>0</td>\n",
              "      <td>0</td>\n",
              "      <td>0</td>\n",
              "      <td>0</td>\n",
              "      <td>0</td>\n",
              "    </tr>\n",
              "    <tr>\n",
              "      <th>2</th>\n",
              "      <td>576143.72</td>\n",
              "      <td>5.0</td>\n",
              "      <td>2003</td>\n",
              "      <td>9.495519</td>\n",
              "      <td>0</td>\n",
              "      <td>1</td>\n",
              "      <td>0</td>\n",
              "      <td>0</td>\n",
              "      <td>0</td>\n",
              "      <td>0</td>\n",
              "      <td>...</td>\n",
              "      <td>0</td>\n",
              "      <td>0</td>\n",
              "      <td>0</td>\n",
              "      <td>0</td>\n",
              "      <td>0</td>\n",
              "      <td>0</td>\n",
              "      <td>0</td>\n",
              "      <td>0</td>\n",
              "      <td>0</td>\n",
              "      <td>0</td>\n",
              "    </tr>\n",
              "    <tr>\n",
              "      <th>3</th>\n",
              "      <td>386241.60</td>\n",
              "      <td>4.2</td>\n",
              "      <td>2007</td>\n",
              "      <td>10.043249</td>\n",
              "      <td>0</td>\n",
              "      <td>0</td>\n",
              "      <td>0</td>\n",
              "      <td>0</td>\n",
              "      <td>0</td>\n",
              "      <td>0</td>\n",
              "      <td>...</td>\n",
              "      <td>0</td>\n",
              "      <td>0</td>\n",
              "      <td>0</td>\n",
              "      <td>0</td>\n",
              "      <td>0</td>\n",
              "      <td>0</td>\n",
              "      <td>0</td>\n",
              "      <td>0</td>\n",
              "      <td>0</td>\n",
              "      <td>0</td>\n",
              "    </tr>\n",
              "    <tr>\n",
              "      <th>4</th>\n",
              "      <td>193120.80</td>\n",
              "      <td>2.0</td>\n",
              "      <td>2011</td>\n",
              "      <td>9.814656</td>\n",
              "      <td>0</td>\n",
              "      <td>0</td>\n",
              "      <td>0</td>\n",
              "      <td>0</td>\n",
              "      <td>1</td>\n",
              "      <td>0</td>\n",
              "      <td>...</td>\n",
              "      <td>0</td>\n",
              "      <td>0</td>\n",
              "      <td>0</td>\n",
              "      <td>0</td>\n",
              "      <td>0</td>\n",
              "      <td>0</td>\n",
              "      <td>0</td>\n",
              "      <td>0</td>\n",
              "      <td>0</td>\n",
              "      <td>0</td>\n",
              "    </tr>\n",
              "  </tbody>\n",
              "</table>\n",
              "<p>5 rows × 324 columns</p>\n",
              "</div>"
            ],
            "text/plain": [
              "   quilometragem  motor V   ano  log preco  marca_BMW  marca_Mercedes-Benz  \\\n",
              "0      445787.18      2.0  1991   8.342840          1                    0   \n",
              "1      687188.18      2.9  1999   8.974618          0                    1   \n",
              "2      576143.72      5.0  2003   9.495519          0                    1   \n",
              "3      386241.60      4.2  2007  10.043249          0                    0   \n",
              "4      193120.80      2.0  2011   9.814656          0                    0   \n",
              "\n",
              "   marca_Mitsubishi  marca_Renault  marca_Toyota  marca_Volkswagen  ...  \\\n",
              "0                 0              0             0                 0  ...   \n",
              "1                 0              0             0                 0  ...   \n",
              "2                 0              0             0                 0  ...   \n",
              "3                 0              0             0                 0  ...   \n",
              "4                 0              0             1                 0  ...   \n",
              "\n",
              "   modelo_Vito  modelo_X1  modelo_X3  modelo_X5  modelo_X5 M  modelo_X6  \\\n",
              "0            0          0          0          0            0          0   \n",
              "1            0          0          0          0            0          0   \n",
              "2            0          0          0          0            0          0   \n",
              "3            0          0          0          0            0          0   \n",
              "4            0          0          0          0            0          0   \n",
              "\n",
              "   modelo_X6 M  modelo_Yaris  modelo_Z3  modelo_Z4  \n",
              "0            0             0          0          0  \n",
              "1            0             0          0          0  \n",
              "2            0             0          0          0  \n",
              "3            0             0          0          0  \n",
              "4            0             0          0          0  \n",
              "\n",
              "[5 rows x 324 columns]"
            ]
          },
          "metadata": {},
          "output_type": "display_data"
        }
      ],
      "source": [
        "#Sua resposta aqui\n",
        "dataDummies = pd.get_dummies(data, drop_first=True)\n",
        "\n",
        "display(dataDummies.head())\n",
        "\n",
        "x = dataDummies.drop('log preco', axis = 1)\n",
        "y = dataDummies['log preco']\n",
        "\n",
        "X_train, X_test, y_train, y_test = train_test_split(x, y, test_size=2, random_state=366)\n"
      ]
    },
    {
      "cell_type": "markdown",
      "metadata": {
        "id": "QpDpVyWw7-Au"
      },
      "source": [
        "7 - Faça o treinamento e teste dos 2 algoritmos escolhidos. Utilize uma métrica (ex. R2-score, RMSE e MAE...) para avaliar a performance dos modelos."
      ]
    },
    {
      "cell_type": "markdown",
      "metadata": {
        "id": "Ft06krzb8RAV"
      },
      "source": [
        "7.1 - Algoritmo 1: (0,5)\n"
      ]
    },
    {
      "cell_type": "code",
      "execution_count": 7,
      "metadata": {
        "colab": {
          "base_uri": "https://localhost:8080/"
        },
        "id": "vf4QB14J8Usb",
        "outputId": "b8f84946-4501-47de-bb1e-5c54db1845fa"
      },
      "outputs": [
        {
          "name": "stdout",
          "output_type": "stream",
          "text": [
            "Ridge R2-score: 0.95\n",
            "Ridge RMSE: 0.12\n"
          ]
        }
      ],
      "source": [
        "#Sua resposta aqui\n",
        "ridge = Ridge(alpha=500).fit(X_train, y_train)\n",
        "\n",
        "ridge_pred = ridge.predict(X_test)\n",
        "ridge_r2 = r2_score(y_test, ridge_pred)\n",
        "ridge_rmse = mean_squared_error(y_test, ridge_pred, squared=False)\n",
        "\n",
        "\n",
        "print(f\"Ridge R2-score: {round(ridge_r2, 2)}\")\n",
        "print(f\"Ridge RMSE: {round(ridge_rmse, 2)}\")"
      ]
    },
    {
      "cell_type": "markdown",
      "metadata": {
        "id": "S8MKlSSM8dz5"
      },
      "source": [
        "7.2 - Algoritmo 2:  (0,5)"
      ]
    },
    {
      "cell_type": "code",
      "execution_count": 8,
      "metadata": {
        "colab": {
          "base_uri": "https://localhost:8080/"
        },
        "id": "6kM92epO8gas",
        "outputId": "c45a3172-6bbe-4500-9276-cff765c1487e"
      },
      "outputs": [
        {
          "name": "stdout",
          "output_type": "stream",
          "text": [
            "Random Forest R2-score: 0.98\n",
            "Random Forest RMSE: 0.07\n"
          ]
        }
      ],
      "source": [
        "#Sua resposta aqui\n",
        "rf = RandomForestRegressor(n_estimators=70, random_state=42).fit(X_train, y_train)\n",
        "rf_pred = rf.predict(X_test)\n",
        "\n",
        "rf_r2 = r2_score(y_test, rf_pred)\n",
        "rf_rmse = np.sqrt(mean_squared_error(y_test, rf_pred))\n",
        "\n",
        "print(f\"Random Forest R2-score: {round(rf_r2, 2)}\")\n",
        "print(f\"Random Forest RMSE: {round(rf_rmse, 2)}\")"
      ]
    },
    {
      "cell_type": "markdown",
      "metadata": {
        "id": "rBJqsqIB84E_"
      },
      "source": [
        "7.3 - Qual dos algortimos obteve melhor resultado? Por quê? (1,0)"
      ]
    },
    {
      "cell_type": "markdown",
      "metadata": {
        "id": "cnGh51RS8_we"
      },
      "source": [
        "Resposta: O modelo Random Forest é melhor porque apresentou um valor de R2-score mais próximo de 1, indicando que ele consegue explicar uma maior variação nos dados. Além disso, ele apresentou um valor de RMSE menor, o que indica que ele tem menor erro na predição dos valores."
      ]
    },
    {
      "cell_type": "markdown",
      "metadata": {
        "id": "YpNVMhSw9Fe7"
      },
      "source": [
        "## **Modelo de Produção: Teste com novos dados - 1 ponto**\n",
        "\n",
        "8 - Use o seu modelo treinado para responder a pergunta do desafio:"
      ]
    },
    {
      "cell_type": "code",
      "execution_count": 9,
      "metadata": {
        "colab": {
          "base_uri": "https://localhost:8080/"
        },
        "id": "zCssWHNU9R8P",
        "outputId": "91650e55-74af-42d7-b67e-543ddeec9606"
      },
      "outputs": [
        {
          "name": "stdout",
          "output_type": "stream",
          "text": [
            "O preço do Polo é de U$ 9131.79\n"
          ]
        }
      ],
      "source": [
        "#Sua resposta aqui\n",
        "challenge = data.to_dict('records')\n",
        "challenge.append(\n",
        "    {\n",
        "        'marca':'Volkswagen', \n",
        "        'tipo': 'sedan', \n",
        "        'quilometragem': 172095,\n",
        "        'motor V': 2.0,\n",
        "        'tipo de motor': 'Gas',\n",
        "        'cadastrado': 'yes',\n",
        "        'ano': 2005,\n",
        "        'modelo': 'Polo'\n",
        "    }\n",
        ")\n",
        "\n",
        "challenge = pd.DataFrame(challenge)\n",
        "challenge_dummies = pd.get_dummies(challenge, drop_first=True)\n",
        "\n",
        "carro = challenge_dummies.tail(1)\n",
        "carro = carro.to_dict('records')[0]\n",
        "\n",
        "dataNovo = pd.DataFrame(carro, index=[0])\n",
        "dataNovo = dataNovo.drop('log preco', axis = 1)\n",
        "\n",
        "predicao = rf.predict(dataNovo)\n",
        "preco = predicao[0]\n",
        "\n",
        "preco = np.exp(preco)\n",
        "\n",
        "print(f'O preço do Polo é de U$ {round(preco, 2)}')"
      ]
    }
  ],
  "metadata": {
    "colab": {
      "provenance": []
    },
    "kernelspec": {
      "display_name": "Python 3",
      "name": "python3"
    },
    "language_info": {
      "codemirror_mode": {
        "name": "ipython",
        "version": 3
      },
      "file_extension": ".py",
      "mimetype": "text/x-python",
      "name": "python",
      "nbconvert_exporter": "python",
      "pygments_lexer": "ipython3",
      "version": "3.9.12"
    }
  },
  "nbformat": 4,
  "nbformat_minor": 0
}
